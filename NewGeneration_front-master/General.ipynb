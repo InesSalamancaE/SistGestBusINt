{
 "cells": [
  {
   "cell_type": "code",
   "execution_count": 1,
   "id": "6f2d014e",
   "metadata": {},
   "outputs": [
    {
     "name": "stdout",
     "output_type": "stream",
     "text": [
      "Tema: cocina, Estado: SI, ContadorRev: 30\n",
      "Tema: salud, Estado: sinRev, ContadorRev: 0\n",
      "Tema: musica, Estado: sinRev, ContadorRev: 0\n",
      "Tema: peliculas, Estado: sinRev, ContadorRev: 0\n",
      "Tema: española, Estado: SI, ContadorRev: 30\n",
      "Tema: receta, Estado: SI, ContadorRev: 30\n"
     ]
    }
   ],
   "source": [
    "from datetime import datetime\n",
    "\n",
    "class Video:\n",
    "    def __init__(self, video_id, url, autor, visualizaciones, duracion, temas, actions):\n",
    "        self.id = video_id\n",
    "        self.url = url\n",
    "        self.autor = autor\n",
    "        self.visualizaciones = visualizaciones\n",
    "        self.duracion = duracion\n",
    "        self.temas = temas\n",
    "        self.actions = actions\n",
    "\n",
    "class Tema:\n",
    "    def __init__(self, nombre):\n",
    "        self.nombre = nombre\n",
    "        self.estado = \"sinRev\"\n",
    "        self.contadorRev = 0\n",
    "\n",
    "def ActualizadorContadorRev(video, temas):\n",
    "    for tema_nombre in video.temas:\n",
    "        for tema in temas:\n",
    "            if tema.nombre == tema_nombre:\n",
    "                for action in video.actions:\n",
    "                    if action == \"rereproduced\":\n",
    "                        tema.contadorRev += 10\n",
    "                    elif action == \"visComp\":\n",
    "                        tema.contadorRev += 9\n",
    "                    elif action == \"visMitad\":\n",
    "                        tema.contadorRev += 5\n",
    "                    elif action == \"visQuarter\":\n",
    "                        tema.contadorRev += 0\n",
    "                    elif action == \"visLessQuarter\":\n",
    "                        tema.contadorRev -= 1\n",
    "                    elif action in [\"Liked\", \"shared\", \"commented\", \"saved\"]:\n",
    "                        tema.contadorRev += 10\n",
    "\n",
    "def ActualizadorEstado(temas):\n",
    "    for tema in temas:\n",
    "        if tema.contadorRev >= 10:\n",
    "            tema.estado = \"SI\"\n",
    "        elif 0 <= tema.contadorRev <= 9:\n",
    "            tema.estado = \"sinRev\"\n",
    "        elif tema.contadorRev < 0:\n",
    "            tema.estado = \"NO\"\n",
    "\n",
    "# Ejemplo de uso\n",
    "temas = [Tema(\"cocina\"), Tema(\"salud\"), Tema(\"musica\"), Tema(\"peliculas\"), Tema(\"española\"), Tema(\"receta\")]\n",
    "\n",
    "video = Video(\n",
    "    video_id=\"HD45\",\n",
    "    url=\"https://www.youtube.com/watch?v=pvlkYYdIBV0\",\n",
    "    autor=\"Recetas de Cocina\",\n",
    "    visualizaciones=45672,\n",
    "    duracion=197,\n",
    "    temas=[\"cocina\", \"española\", \"receta\"],\n",
    "    actions=[\"rereproduced\", \"Liked\", \"shared\"]\n",
    ")\n",
    "\n",
    "ActualizadorContadorRev(video, temas)\n",
    "ActualizadorEstado(temas)\n",
    "\n",
    "for tema in temas:\n",
    "    print(f\"Tema: {tema.nombre}, Estado: {tema.estado}, ContadorRev: {tema.contadorRev}\")\n"
   ]
  },
  {
   "cell_type": "code",
   "execution_count": null,
   "id": "af9883e4",
   "metadata": {},
   "outputs": [],
   "source": []
  }
 ],
 "metadata": {
  "kernelspec": {
   "display_name": "Python 3 (ipykernel)",
   "language": "python",
   "name": "python3"
  },
  "language_info": {
   "codemirror_mode": {
    "name": "ipython",
    "version": 3
   },
   "file_extension": ".py",
   "mimetype": "text/x-python",
   "name": "python",
   "nbconvert_exporter": "python",
   "pygments_lexer": "ipython3",
   "version": "3.9.13"
  }
 },
 "nbformat": 4,
 "nbformat_minor": 5
}
